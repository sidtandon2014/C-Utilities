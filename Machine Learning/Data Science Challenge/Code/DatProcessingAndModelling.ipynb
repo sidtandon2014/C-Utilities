{
 "cells": [
  {
   "cell_type": "code",
   "execution_count": 2,
   "metadata": {},
   "outputs": [],
   "source": [
    "import pandas as pd\n",
    "import pandas_profiling\n",
    "import numpy as np\n",
    "import seaborn as sns\n",
    "import matplotlib.pyplot as plt\n",
    "from sklearn.tree import DecisionTreeClassifier \n",
    "from sklearn import tree\n",
    "from sklearn import preprocessing"
   ]
  },
  {
   "cell_type": "code",
   "execution_count": 3,
   "metadata": {},
   "outputs": [],
   "source": [
    "train = pd.read_csv(\"../Data/siddharth_Microsoft_issueDataset.csv\")\n",
    "data = pd.read_csv(\"../Data/siddharth_Microsoft_holdoutDataset.csv\")\n",
    "dataset = data.copy()"
   ]
  },
  {
   "cell_type": "code",
   "execution_count": 8,
   "metadata": {},
   "outputs": [],
   "source": [
    "train.loc[train[\"Recruiting Method Code\"].isin([10000,88743,21249]),\"Recruiting Method Code\"] = \"Other\"\n",
    "train.loc[train[\"HR Touchpoints\"] >= 6,\"HR Touchpoints\"] = \"> 6\"\n",
    "train.loc[train[\"Social Media Activity (Twitter, Facebook, Instagram)\"].isin([6,7])\n",
    "            ,\"Social Media Activity (Twitter, Facebook, Instagram)\"] = \"Other\"\n",
    "train.loc[train[\"Survey, Relative, Attitude toward WorkType\"].isin([7,8])\n",
    "            ,\"Survey, Relative, Attitude toward WorkType\"] = \"Other\"\n",
    "train.loc[train[\"Survey, Relative, Peer's Average Attitude toward Work/Life Balance\"].isin([6,7])\n",
    "            ,\"Survey, Relative, Peer's Average Attitude toward Work/Life Balance\"] = \"Other\""
   ]
  },
  {
   "cell_type": "code",
   "execution_count": 4,
   "metadata": {},
   "outputs": [],
   "source": [
    "dataset.loc[dataset[\"Recruiting Method Code\"].isin([10000,88743,21249]),\"Recruiting Method Code\"] = \"Other\"\n",
    "dataset.loc[dataset[\"HR Touchpoints\"] >= 6,\"HR Touchpoints\"] = \"> 6\"\n",
    "dataset.loc[dataset[\"Social Media Activity (Twitter, Facebook, Instagram)\"].isin([6,7])\n",
    "            ,\"Social Media Activity (Twitter, Facebook, Instagram)\"] = \"Other\"\n",
    "dataset.loc[dataset[\"Survey, Relative, Attitude toward WorkType\"].isin([7,8])\n",
    "            ,\"Survey, Relative, Attitude toward WorkType\"] = \"Other\"\n",
    "dataset.loc[dataset[\"Survey, Relative, Peer's Average Attitude toward Work/Life Balance\"].isin([6,7])\n",
    "            ,\"Survey, Relative, Peer's Average Attitude toward Work/Life Balance\"] = \"Other\""
   ]
  },
  {
   "cell_type": "code",
   "execution_count": 53,
   "metadata": {},
   "outputs": [],
   "source": [
    "def generateInteractions(dataset):\n",
    "    index = 0\n",
    "    for pair in itertools.combinations(independentVars,2):\n",
    "        dataset[\"col_\" + str(index)] = (dataset[pair[0]].astype(str) + \"_\" \n",
    "                                        + dataset[pair[1]].astype(str))\n",
    "        index+=1\n",
    "    return dataset\n",
    "        \n",
    "#dataset = generateInteractions(dataset)"
   ]
  },
  {
   "cell_type": "code",
   "execution_count": 9,
   "metadata": {},
   "outputs": [
    {
     "data": {
      "text/html": [
       "<div>\n",
       "<style scoped>\n",
       "    .dataframe tbody tr th:only-of-type {\n",
       "        vertical-align: middle;\n",
       "    }\n",
       "\n",
       "    .dataframe tbody tr th {\n",
       "        vertical-align: top;\n",
       "    }\n",
       "\n",
       "    .dataframe thead th {\n",
       "        text-align: right;\n",
       "    }\n",
       "</style>\n",
       "<table border=\"1\" class=\"dataframe\">\n",
       "  <thead>\n",
       "    <tr style=\"text-align: right;\">\n",
       "      <th></th>\n",
       "      <th>LinkedIn Skill Code</th>\n",
       "      <th>Hired through SMTP</th>\n",
       "      <th>Survey, Relative, Attitude toward Resources</th>\n",
       "      <th>Survey, Relative, Peer's Average Attitude toward Peers</th>\n",
       "      <th>Survey, Relative, Attitude toward Peers</th>\n",
       "      <th>National Origin (code)</th>\n",
       "      <th>Social Media Activity (Twitter, Facebook, Instagram)</th>\n",
       "      <th>Survey, Relative, Peer's Average Attitude toward Resources</th>\n",
       "      <th>EmployeeLeft</th>\n",
       "      <th>Years of Service</th>\n",
       "      <th>...</th>\n",
       "      <th>Survey, Relative, Attitude toward Environment</th>\n",
       "      <th>Weekly Hours Worked</th>\n",
       "      <th>Survey, Relative, Peer's Average Attitude toward WorkType</th>\n",
       "      <th>Survey, Relative, Attitude toward Work/Life Balance</th>\n",
       "      <th>Survey, Relative, Peer's Average Attitude toward Workload</th>\n",
       "      <th>Survey, Relative, Attitude toward Workload</th>\n",
       "      <th>Recruiting Method Code</th>\n",
       "      <th>Mentor Program Involvement (Scaled)</th>\n",
       "      <th>Survey, Relative, Attitude toward WorkType</th>\n",
       "      <th>HR Touchpoints</th>\n",
       "    </tr>\n",
       "  </thead>\n",
       "  <tbody>\n",
       "    <tr>\n",
       "      <th>0</th>\n",
       "      <td>4</td>\n",
       "      <td>0</td>\n",
       "      <td>2</td>\n",
       "      <td>1</td>\n",
       "      <td>5</td>\n",
       "      <td>1</td>\n",
       "      <td>Other</td>\n",
       "      <td>7</td>\n",
       "      <td>1.0</td>\n",
       "      <td>2</td>\n",
       "      <td>...</td>\n",
       "      <td>4</td>\n",
       "      <td>42</td>\n",
       "      <td>3</td>\n",
       "      <td>5</td>\n",
       "      <td>6</td>\n",
       "      <td>4</td>\n",
       "      <td>Other</td>\n",
       "      <td>4</td>\n",
       "      <td>4</td>\n",
       "      <td>4</td>\n",
       "    </tr>\n",
       "    <tr>\n",
       "      <th>1</th>\n",
       "      <td>6</td>\n",
       "      <td>0</td>\n",
       "      <td>2</td>\n",
       "      <td>4</td>\n",
       "      <td>0</td>\n",
       "      <td>2</td>\n",
       "      <td>5</td>\n",
       "      <td>5</td>\n",
       "      <td>1.0</td>\n",
       "      <td>3</td>\n",
       "      <td>...</td>\n",
       "      <td>2</td>\n",
       "      <td>42</td>\n",
       "      <td>5</td>\n",
       "      <td>4</td>\n",
       "      <td>1</td>\n",
       "      <td>4</td>\n",
       "      <td>43747</td>\n",
       "      <td>5</td>\n",
       "      <td>5</td>\n",
       "      <td>2</td>\n",
       "    </tr>\n",
       "    <tr>\n",
       "      <th>2</th>\n",
       "      <td>2</td>\n",
       "      <td>0</td>\n",
       "      <td>2</td>\n",
       "      <td>2</td>\n",
       "      <td>5</td>\n",
       "      <td>0</td>\n",
       "      <td>2</td>\n",
       "      <td>1</td>\n",
       "      <td>0.0</td>\n",
       "      <td>1</td>\n",
       "      <td>...</td>\n",
       "      <td>4</td>\n",
       "      <td>39</td>\n",
       "      <td>4</td>\n",
       "      <td>3</td>\n",
       "      <td>2</td>\n",
       "      <td>2</td>\n",
       "      <td>54996</td>\n",
       "      <td>5</td>\n",
       "      <td>2</td>\n",
       "      <td>0</td>\n",
       "    </tr>\n",
       "    <tr>\n",
       "      <th>3</th>\n",
       "      <td>2</td>\n",
       "      <td>1</td>\n",
       "      <td>2</td>\n",
       "      <td>1</td>\n",
       "      <td>0</td>\n",
       "      <td>0</td>\n",
       "      <td>1</td>\n",
       "      <td>7</td>\n",
       "      <td>0.0</td>\n",
       "      <td>4</td>\n",
       "      <td>...</td>\n",
       "      <td>5</td>\n",
       "      <td>39</td>\n",
       "      <td>5</td>\n",
       "      <td>5</td>\n",
       "      <td>3</td>\n",
       "      <td>1</td>\n",
       "      <td>32498</td>\n",
       "      <td>6</td>\n",
       "      <td>5</td>\n",
       "      <td>0</td>\n",
       "    </tr>\n",
       "    <tr>\n",
       "      <th>4</th>\n",
       "      <td>4</td>\n",
       "      <td>0</td>\n",
       "      <td>4</td>\n",
       "      <td>0</td>\n",
       "      <td>0</td>\n",
       "      <td>1</td>\n",
       "      <td>4</td>\n",
       "      <td>6</td>\n",
       "      <td>0.0</td>\n",
       "      <td>3</td>\n",
       "      <td>...</td>\n",
       "      <td>5</td>\n",
       "      <td>33</td>\n",
       "      <td>5</td>\n",
       "      <td>3</td>\n",
       "      <td>1</td>\n",
       "      <td>2</td>\n",
       "      <td>66245</td>\n",
       "      <td>4</td>\n",
       "      <td>5</td>\n",
       "      <td>4</td>\n",
       "    </tr>\n",
       "  </tbody>\n",
       "</table>\n",
       "<p>5 rows × 22 columns</p>\n",
       "</div>"
      ],
      "text/plain": [
       "   LinkedIn Skill Code  Hired through SMTP  \\\n",
       "0                    4                   0   \n",
       "1                    6                   0   \n",
       "2                    2                   0   \n",
       "3                    2                   1   \n",
       "4                    4                   0   \n",
       "\n",
       "   Survey, Relative, Attitude toward Resources  \\\n",
       "0                                            2   \n",
       "1                                            2   \n",
       "2                                            2   \n",
       "3                                            2   \n",
       "4                                            4   \n",
       "\n",
       "   Survey, Relative, Peer's Average Attitude toward Peers  \\\n",
       "0                                                  1        \n",
       "1                                                  4        \n",
       "2                                                  2        \n",
       "3                                                  1        \n",
       "4                                                  0        \n",
       "\n",
       "   Survey, Relative, Attitude toward Peers  National Origin (code)  \\\n",
       "0                                        5                       1   \n",
       "1                                        0                       2   \n",
       "2                                        5                       0   \n",
       "3                                        0                       0   \n",
       "4                                        0                       1   \n",
       "\n",
       "  Social Media Activity (Twitter, Facebook, Instagram)  \\\n",
       "0                                              Other     \n",
       "1                                                  5     \n",
       "2                                                  2     \n",
       "3                                                  1     \n",
       "4                                                  4     \n",
       "\n",
       "   Survey, Relative, Peer's Average Attitude toward Resources  EmployeeLeft  \\\n",
       "0                                                  7                    1.0   \n",
       "1                                                  5                    1.0   \n",
       "2                                                  1                    0.0   \n",
       "3                                                  7                    0.0   \n",
       "4                                                  6                    0.0   \n",
       "\n",
       "   Years of Service  ... Survey, Relative, Attitude toward Environment  \\\n",
       "0                 2  ...                                             4   \n",
       "1                 3  ...                                             2   \n",
       "2                 1  ...                                             4   \n",
       "3                 4  ...                                             5   \n",
       "4                 3  ...                                             5   \n",
       "\n",
       "   Weekly Hours Worked  \\\n",
       "0                   42   \n",
       "1                   42   \n",
       "2                   39   \n",
       "3                   39   \n",
       "4                   33   \n",
       "\n",
       "   Survey, Relative, Peer's Average Attitude toward WorkType  \\\n",
       "0                                                  3           \n",
       "1                                                  5           \n",
       "2                                                  4           \n",
       "3                                                  5           \n",
       "4                                                  5           \n",
       "\n",
       "   Survey, Relative, Attitude toward Work/Life Balance  \\\n",
       "0                                                  5     \n",
       "1                                                  4     \n",
       "2                                                  3     \n",
       "3                                                  5     \n",
       "4                                                  3     \n",
       "\n",
       "   Survey, Relative, Peer's Average Attitude toward Workload  \\\n",
       "0                                                  6           \n",
       "1                                                  1           \n",
       "2                                                  2           \n",
       "3                                                  3           \n",
       "4                                                  1           \n",
       "\n",
       "   Survey, Relative, Attitude toward Workload  Recruiting Method Code  \\\n",
       "0                                           4                   Other   \n",
       "1                                           4                   43747   \n",
       "2                                           2                   54996   \n",
       "3                                           1                   32498   \n",
       "4                                           2                   66245   \n",
       "\n",
       "   Mentor Program Involvement (Scaled)  \\\n",
       "0                                    4   \n",
       "1                                    5   \n",
       "2                                    5   \n",
       "3                                    6   \n",
       "4                                    4   \n",
       "\n",
       "  Survey, Relative, Attitude toward WorkType  HR Touchpoints  \n",
       "0                                          4               4  \n",
       "1                                          5               2  \n",
       "2                                          2               0  \n",
       "3                                          5               0  \n",
       "4                                          5               4  \n",
       "\n",
       "[5 rows x 22 columns]"
      ]
     },
     "execution_count": 9,
     "metadata": {},
     "output_type": "execute_result"
    }
   ],
   "source": [
    "dataset.head()"
   ]
  },
  {
   "cell_type": "code",
   "execution_count": 14,
   "metadata": {},
   "outputs": [
    {
     "data": {
      "text/plain": [
       "74280    2043\n",
       "22856    2032\n",
       "10000    2028\n",
       "61424    2000\n",
       "35712    1997\n",
       "87136    1958\n",
       "48568    1942\n",
       "Name: LinkedIn Skill Code, dtype: int64"
      ]
     },
     "execution_count": 14,
     "metadata": {},
     "output_type": "execute_result"
    }
   ],
   "source": [
    "train[\"LinkedIn Skill Code\"].value_counts()"
   ]
  },
  {
   "cell_type": "code",
   "execution_count": 23,
   "metadata": {},
   "outputs": [
    {
     "data": {
      "text/plain": [
       "[10000, 22856, 35712, 48568, 61424, 74280, 87136, 0, 1, 2, 3, 4, 5, 6]"
      ]
     },
     "execution_count": 23,
     "metadata": {},
     "output_type": "execute_result"
    }
   ],
   "source": [
    "list(np.unique(train[\"LinkedIn Skill Code\"])) + list(np.unique(dataset[\"LinkedIn Skill Code\"]))"
   ]
  },
  {
   "cell_type": "code",
   "execution_count": 15,
   "metadata": {},
   "outputs": [
    {
     "data": {
      "text/plain": [
       "3    160\n",
       "2    158\n",
       "0    148\n",
       "4    144\n",
       "6    136\n",
       "1    131\n",
       "5    123\n",
       "Name: LinkedIn Skill Code, dtype: int64"
      ]
     },
     "execution_count": 15,
     "metadata": {},
     "output_type": "execute_result"
    }
   ],
   "source": [
    "dataset[\"LinkedIn Skill Code\"].value_counts()"
   ]
  },
  {
   "cell_type": "code",
   "execution_count": 29,
   "metadata": {},
   "outputs": [
    {
     "name": "stdout",
     "output_type": "stream",
     "text": [
      "LinkedIn Skill Code\n"
     ]
    },
    {
     "ename": "ValueError",
     "evalue": "y contains previously unseen labels: '4'",
     "output_type": "error",
     "traceback": [
      "\u001b[1;31m---------------------------------------------------------------------------\u001b[0m",
      "\u001b[1;31mKeyError\u001b[0m                                  Traceback (most recent call last)",
      "\u001b[1;32m~\\Anaconda3\\lib\\site-packages\\sklearn\\preprocessing\\_label.py\u001b[0m in \u001b[0;36m_encode_python\u001b[1;34m(values, uniques, encode)\u001b[0m\n\u001b[0;32m     65\u001b[0m         \u001b[1;32mtry\u001b[0m\u001b[1;33m:\u001b[0m\u001b[1;33m\u001b[0m\u001b[1;33m\u001b[0m\u001b[0m\n\u001b[1;32m---> 66\u001b[1;33m             \u001b[0mencoded\u001b[0m \u001b[1;33m=\u001b[0m \u001b[0mnp\u001b[0m\u001b[1;33m.\u001b[0m\u001b[0marray\u001b[0m\u001b[1;33m(\u001b[0m\u001b[1;33m[\u001b[0m\u001b[0mtable\u001b[0m\u001b[1;33m[\u001b[0m\u001b[0mv\u001b[0m\u001b[1;33m]\u001b[0m \u001b[1;32mfor\u001b[0m \u001b[0mv\u001b[0m \u001b[1;32min\u001b[0m \u001b[0mvalues\u001b[0m\u001b[1;33m]\u001b[0m\u001b[1;33m)\u001b[0m\u001b[1;33m\u001b[0m\u001b[1;33m\u001b[0m\u001b[0m\n\u001b[0m\u001b[0;32m     67\u001b[0m         \u001b[1;32mexcept\u001b[0m \u001b[0mKeyError\u001b[0m \u001b[1;32mas\u001b[0m \u001b[0me\u001b[0m\u001b[1;33m:\u001b[0m\u001b[1;33m\u001b[0m\u001b[1;33m\u001b[0m\u001b[0m\n",
      "\u001b[1;32m~\\Anaconda3\\lib\\site-packages\\sklearn\\preprocessing\\_label.py\u001b[0m in \u001b[0;36m<listcomp>\u001b[1;34m(.0)\u001b[0m\n\u001b[0;32m     65\u001b[0m         \u001b[1;32mtry\u001b[0m\u001b[1;33m:\u001b[0m\u001b[1;33m\u001b[0m\u001b[1;33m\u001b[0m\u001b[0m\n\u001b[1;32m---> 66\u001b[1;33m             \u001b[0mencoded\u001b[0m \u001b[1;33m=\u001b[0m \u001b[0mnp\u001b[0m\u001b[1;33m.\u001b[0m\u001b[0marray\u001b[0m\u001b[1;33m(\u001b[0m\u001b[1;33m[\u001b[0m\u001b[0mtable\u001b[0m\u001b[1;33m[\u001b[0m\u001b[0mv\u001b[0m\u001b[1;33m]\u001b[0m \u001b[1;32mfor\u001b[0m \u001b[0mv\u001b[0m \u001b[1;32min\u001b[0m \u001b[0mvalues\u001b[0m\u001b[1;33m]\u001b[0m\u001b[1;33m)\u001b[0m\u001b[1;33m\u001b[0m\u001b[1;33m\u001b[0m\u001b[0m\n\u001b[0m\u001b[0;32m     67\u001b[0m         \u001b[1;32mexcept\u001b[0m \u001b[0mKeyError\u001b[0m \u001b[1;32mas\u001b[0m \u001b[0me\u001b[0m\u001b[1;33m:\u001b[0m\u001b[1;33m\u001b[0m\u001b[1;33m\u001b[0m\u001b[0m\n",
      "\u001b[1;31mKeyError\u001b[0m: '4'",
      "\nDuring handling of the above exception, another exception occurred:\n",
      "\u001b[1;31mValueError\u001b[0m                                Traceback (most recent call last)",
      "\u001b[1;32m<ipython-input-29-4b838e7e4a22>\u001b[0m in \u001b[0;36m<module>\u001b[1;34m\u001b[0m\n\u001b[0;32m      7\u001b[0m     \u001b[0mle\u001b[0m\u001b[1;33m.\u001b[0m\u001b[0mfit\u001b[0m\u001b[1;33m(\u001b[0m\u001b[0mlist\u001b[0m\u001b[1;33m(\u001b[0m\u001b[0mnp\u001b[0m\u001b[1;33m.\u001b[0m\u001b[0munique\u001b[0m\u001b[1;33m(\u001b[0m\u001b[0mtrain\u001b[0m\u001b[1;33m[\u001b[0m\u001b[0mcol\u001b[0m\u001b[1;33m]\u001b[0m\u001b[1;33m)\u001b[0m\u001b[1;33m)\u001b[0m \u001b[1;33m+\u001b[0m \u001b[0mlist\u001b[0m\u001b[1;33m(\u001b[0m\u001b[0mnp\u001b[0m\u001b[1;33m.\u001b[0m\u001b[0munique\u001b[0m\u001b[1;33m(\u001b[0m\u001b[0mdataset\u001b[0m\u001b[1;33m[\u001b[0m\u001b[0mcol\u001b[0m\u001b[1;33m]\u001b[0m\u001b[1;33m)\u001b[0m\u001b[1;33m)\u001b[0m\u001b[1;33m)\u001b[0m\u001b[1;33m\u001b[0m\u001b[1;33m\u001b[0m\u001b[0m\n\u001b[0;32m      8\u001b[0m     \u001b[0mle\u001b[0m\u001b[1;33m.\u001b[0m\u001b[0mclasses_\u001b[0m\u001b[1;33m\u001b[0m\u001b[1;33m\u001b[0m\u001b[0m\n\u001b[1;32m----> 9\u001b[1;33m     \u001b[0mdataset\u001b[0m\u001b[1;33m[\u001b[0m\u001b[0mcol\u001b[0m\u001b[1;33m]\u001b[0m \u001b[1;33m=\u001b[0m \u001b[0mle\u001b[0m\u001b[1;33m.\u001b[0m\u001b[0mtransform\u001b[0m\u001b[1;33m(\u001b[0m\u001b[0mdataset\u001b[0m\u001b[1;33m[\u001b[0m\u001b[0mcol\u001b[0m\u001b[1;33m]\u001b[0m\u001b[1;33m.\u001b[0m\u001b[0mastype\u001b[0m\u001b[1;33m(\u001b[0m\u001b[0mstr\u001b[0m\u001b[1;33m)\u001b[0m\u001b[1;33m)\u001b[0m\u001b[1;33m\u001b[0m\u001b[1;33m\u001b[0m\u001b[0m\n\u001b[0m",
      "\u001b[1;32m~\\Anaconda3\\lib\\site-packages\\sklearn\\preprocessing\\_label.py\u001b[0m in \u001b[0;36mtransform\u001b[1;34m(self, y)\u001b[0m\n\u001b[0;32m    275\u001b[0m             \u001b[1;32mreturn\u001b[0m \u001b[0mnp\u001b[0m\u001b[1;33m.\u001b[0m\u001b[0marray\u001b[0m\u001b[1;33m(\u001b[0m\u001b[1;33m[\u001b[0m\u001b[1;33m]\u001b[0m\u001b[1;33m)\u001b[0m\u001b[1;33m\u001b[0m\u001b[1;33m\u001b[0m\u001b[0m\n\u001b[0;32m    276\u001b[0m \u001b[1;33m\u001b[0m\u001b[0m\n\u001b[1;32m--> 277\u001b[1;33m         \u001b[0m_\u001b[0m\u001b[1;33m,\u001b[0m \u001b[0my\u001b[0m \u001b[1;33m=\u001b[0m \u001b[0m_encode\u001b[0m\u001b[1;33m(\u001b[0m\u001b[0my\u001b[0m\u001b[1;33m,\u001b[0m \u001b[0muniques\u001b[0m\u001b[1;33m=\u001b[0m\u001b[0mself\u001b[0m\u001b[1;33m.\u001b[0m\u001b[0mclasses_\u001b[0m\u001b[1;33m,\u001b[0m \u001b[0mencode\u001b[0m\u001b[1;33m=\u001b[0m\u001b[1;32mTrue\u001b[0m\u001b[1;33m)\u001b[0m\u001b[1;33m\u001b[0m\u001b[1;33m\u001b[0m\u001b[0m\n\u001b[0m\u001b[0;32m    278\u001b[0m         \u001b[1;32mreturn\u001b[0m \u001b[0my\u001b[0m\u001b[1;33m\u001b[0m\u001b[1;33m\u001b[0m\u001b[0m\n\u001b[0;32m    279\u001b[0m \u001b[1;33m\u001b[0m\u001b[0m\n",
      "\u001b[1;32m~\\Anaconda3\\lib\\site-packages\\sklearn\\preprocessing\\_label.py\u001b[0m in \u001b[0;36m_encode\u001b[1;34m(values, uniques, encode, check_unknown)\u001b[0m\n\u001b[0;32m    111\u001b[0m     \u001b[1;32mif\u001b[0m \u001b[0mvalues\u001b[0m\u001b[1;33m.\u001b[0m\u001b[0mdtype\u001b[0m \u001b[1;33m==\u001b[0m \u001b[0mobject\u001b[0m\u001b[1;33m:\u001b[0m\u001b[1;33m\u001b[0m\u001b[1;33m\u001b[0m\u001b[0m\n\u001b[0;32m    112\u001b[0m         \u001b[1;32mtry\u001b[0m\u001b[1;33m:\u001b[0m\u001b[1;33m\u001b[0m\u001b[1;33m\u001b[0m\u001b[0m\n\u001b[1;32m--> 113\u001b[1;33m             \u001b[0mres\u001b[0m \u001b[1;33m=\u001b[0m \u001b[0m_encode_python\u001b[0m\u001b[1;33m(\u001b[0m\u001b[0mvalues\u001b[0m\u001b[1;33m,\u001b[0m \u001b[0muniques\u001b[0m\u001b[1;33m,\u001b[0m \u001b[0mencode\u001b[0m\u001b[1;33m)\u001b[0m\u001b[1;33m\u001b[0m\u001b[1;33m\u001b[0m\u001b[0m\n\u001b[0m\u001b[0;32m    114\u001b[0m         \u001b[1;32mexcept\u001b[0m \u001b[0mTypeError\u001b[0m\u001b[1;33m:\u001b[0m\u001b[1;33m\u001b[0m\u001b[1;33m\u001b[0m\u001b[0m\n\u001b[0;32m    115\u001b[0m             types = sorted(t.__qualname__\n",
      "\u001b[1;32m~\\Anaconda3\\lib\\site-packages\\sklearn\\preprocessing\\_label.py\u001b[0m in \u001b[0;36m_encode_python\u001b[1;34m(values, uniques, encode)\u001b[0m\n\u001b[0;32m     66\u001b[0m             \u001b[0mencoded\u001b[0m \u001b[1;33m=\u001b[0m \u001b[0mnp\u001b[0m\u001b[1;33m.\u001b[0m\u001b[0marray\u001b[0m\u001b[1;33m(\u001b[0m\u001b[1;33m[\u001b[0m\u001b[0mtable\u001b[0m\u001b[1;33m[\u001b[0m\u001b[0mv\u001b[0m\u001b[1;33m]\u001b[0m \u001b[1;32mfor\u001b[0m \u001b[0mv\u001b[0m \u001b[1;32min\u001b[0m \u001b[0mvalues\u001b[0m\u001b[1;33m]\u001b[0m\u001b[1;33m)\u001b[0m\u001b[1;33m\u001b[0m\u001b[1;33m\u001b[0m\u001b[0m\n\u001b[0;32m     67\u001b[0m         \u001b[1;32mexcept\u001b[0m \u001b[0mKeyError\u001b[0m \u001b[1;32mas\u001b[0m \u001b[0me\u001b[0m\u001b[1;33m:\u001b[0m\u001b[1;33m\u001b[0m\u001b[1;33m\u001b[0m\u001b[0m\n\u001b[1;32m---> 68\u001b[1;33m             raise ValueError(\"y contains previously unseen labels: %s\"\n\u001b[0m\u001b[0;32m     69\u001b[0m                              % str(e))\n\u001b[0;32m     70\u001b[0m         \u001b[1;32mreturn\u001b[0m \u001b[0muniques\u001b[0m\u001b[1;33m,\u001b[0m \u001b[0mencoded\u001b[0m\u001b[1;33m\u001b[0m\u001b[1;33m\u001b[0m\u001b[0m\n",
      "\u001b[1;31mValueError\u001b[0m: y contains previously unseen labels: '4'"
     ]
    }
   ],
   "source": [
    "target = \"EmployeeLeft\"\n",
    "independentVars = [col for col in dataset.columns if col != target]\n",
    "le = preprocessing.LabelEncoder()\n",
    "\n",
    "for col in independentVars:\n",
    "    print(col)\n",
    "    le.fit(list(np.unique(train[col])) + list(np.unique(dataset[col])))\n",
    "    le.classes_\n",
    "    dataset[col] = le.transform(dataset[col].astype(str))"
   ]
  },
  {
   "cell_type": "code",
   "execution_count": 22,
   "metadata": {},
   "outputs": [],
   "source": [
    "from sklearn.model_selection import train_test_split\n",
    "\n",
    "Y = dataset[target]\n",
    "X = dataset[independentVars]\n",
    "X_train, X_test, y_train, y_test = train_test_split(X, Y, test_size=0.20, random_state=42)"
   ]
  },
  {
   "cell_type": "code",
   "execution_count": 27,
   "metadata": {},
   "outputs": [],
   "source": [
    "X_train.to_csv(\"test\")"
   ]
  },
  {
   "cell_type": "code",
   "execution_count": 57,
   "metadata": {},
   "outputs": [
    {
     "data": {
      "text/plain": [
       "0.8225"
      ]
     },
     "execution_count": 57,
     "metadata": {},
     "output_type": "execute_result"
    }
   ],
   "source": [
    "estimator = DecisionTreeClassifier(max_depth = 5)\n",
    "estimator.fit(X_train,y_train)\n",
    "\n",
    "test_predict = estimator.predict(X_test)\n",
    "from sklearn.metrics import accuracy_score\n",
    "accuracy_score(y_test, test_predict)"
   ]
  },
  {
   "cell_type": "code",
   "execution_count": 57,
   "metadata": {},
   "outputs": [
    {
     "data": {
      "text/html": [
       "<div>\n",
       "<style scoped>\n",
       "    .dataframe tbody tr th:only-of-type {\n",
       "        vertical-align: middle;\n",
       "    }\n",
       "\n",
       "    .dataframe tbody tr th {\n",
       "        vertical-align: top;\n",
       "    }\n",
       "\n",
       "    .dataframe thead th {\n",
       "        text-align: right;\n",
       "    }\n",
       "</style>\n",
       "<table border=\"1\" class=\"dataframe\">\n",
       "  <thead>\n",
       "    <tr style=\"text-align: right;\">\n",
       "      <th></th>\n",
       "      <th>Feature</th>\n",
       "      <th>Importance</th>\n",
       "    </tr>\n",
       "  </thead>\n",
       "  <tbody>\n",
       "    <tr>\n",
       "      <th>0</th>\n",
       "      <td>National Origin (code)</td>\n",
       "      <td>0.527595</td>\n",
       "    </tr>\n",
       "    <tr>\n",
       "      <th>1</th>\n",
       "      <td>Survey, Relative, Attitude toward Peers</td>\n",
       "      <td>0.246192</td>\n",
       "    </tr>\n",
       "    <tr>\n",
       "      <th>2</th>\n",
       "      <td>Survey, Relative, Attitude toward WorkType</td>\n",
       "      <td>0.175964</td>\n",
       "    </tr>\n",
       "    <tr>\n",
       "      <th>3</th>\n",
       "      <td>Salary Level, Relative to Peers (Grouped)</td>\n",
       "      <td>0.034160</td>\n",
       "    </tr>\n",
       "    <tr>\n",
       "      <th>4</th>\n",
       "      <td>Survey, Relative, Attitude toward Resources</td>\n",
       "      <td>0.013938</td>\n",
       "    </tr>\n",
       "    <tr>\n",
       "      <th>5</th>\n",
       "      <td>Survey, Relative, Attitude toward Workload</td>\n",
       "      <td>0.001560</td>\n",
       "    </tr>\n",
       "    <tr>\n",
       "      <th>6</th>\n",
       "      <td>Survey, Relative, Attitude toward Environment</td>\n",
       "      <td>0.000362</td>\n",
       "    </tr>\n",
       "    <tr>\n",
       "      <th>7</th>\n",
       "      <td>Recruiting Method Code</td>\n",
       "      <td>0.000230</td>\n",
       "    </tr>\n",
       "    <tr>\n",
       "      <th>8</th>\n",
       "      <td>Hired through SMTP</td>\n",
       "      <td>0.000000</td>\n",
       "    </tr>\n",
       "    <tr>\n",
       "      <th>9</th>\n",
       "      <td>LinkedIn Skill Code</td>\n",
       "      <td>0.000000</td>\n",
       "    </tr>\n",
       "    <tr>\n",
       "      <th>10</th>\n",
       "      <td>Mentor Program Involvement (Scaled)</td>\n",
       "      <td>0.000000</td>\n",
       "    </tr>\n",
       "    <tr>\n",
       "      <th>11</th>\n",
       "      <td>Social Media Activity (Twitter, Facebook, Inst...</td>\n",
       "      <td>0.000000</td>\n",
       "    </tr>\n",
       "    <tr>\n",
       "      <th>12</th>\n",
       "      <td>Years of Service</td>\n",
       "      <td>0.000000</td>\n",
       "    </tr>\n",
       "    <tr>\n",
       "      <th>13</th>\n",
       "      <td>Weekly Hours Worked</td>\n",
       "      <td>0.000000</td>\n",
       "    </tr>\n",
       "    <tr>\n",
       "      <th>14</th>\n",
       "      <td>Survey, Relative, Attitude toward Work/Life Ba...</td>\n",
       "      <td>0.000000</td>\n",
       "    </tr>\n",
       "    <tr>\n",
       "      <th>15</th>\n",
       "      <td>Survey, Relative, Peer's Average Attitude towa...</td>\n",
       "      <td>0.000000</td>\n",
       "    </tr>\n",
       "    <tr>\n",
       "      <th>16</th>\n",
       "      <td>Survey, Relative, Peer's Average Attitude towa...</td>\n",
       "      <td>0.000000</td>\n",
       "    </tr>\n",
       "    <tr>\n",
       "      <th>17</th>\n",
       "      <td>Survey, Relative, Peer's Average Attitude towa...</td>\n",
       "      <td>0.000000</td>\n",
       "    </tr>\n",
       "    <tr>\n",
       "      <th>18</th>\n",
       "      <td>Survey, Relative, Peer's Average Attitude towa...</td>\n",
       "      <td>0.000000</td>\n",
       "    </tr>\n",
       "    <tr>\n",
       "      <th>19</th>\n",
       "      <td>Survey, Relative, Peer's Average Attitude towa...</td>\n",
       "      <td>0.000000</td>\n",
       "    </tr>\n",
       "    <tr>\n",
       "      <th>20</th>\n",
       "      <td>HR Touchpoints</td>\n",
       "      <td>0.000000</td>\n",
       "    </tr>\n",
       "  </tbody>\n",
       "</table>\n",
       "</div>"
      ],
      "text/plain": [
       "                                              Feature  Importance\n",
       "0                              National Origin (code)    0.527595\n",
       "1             Survey, Relative, Attitude toward Peers    0.246192\n",
       "2          Survey, Relative, Attitude toward WorkType    0.175964\n",
       "3           Salary Level, Relative to Peers (Grouped)    0.034160\n",
       "4         Survey, Relative, Attitude toward Resources    0.013938\n",
       "5          Survey, Relative, Attitude toward Workload    0.001560\n",
       "6       Survey, Relative, Attitude toward Environment    0.000362\n",
       "7                              Recruiting Method Code    0.000230\n",
       "8                                  Hired through SMTP    0.000000\n",
       "9                                 LinkedIn Skill Code    0.000000\n",
       "10                Mentor Program Involvement (Scaled)    0.000000\n",
       "11  Social Media Activity (Twitter, Facebook, Inst...    0.000000\n",
       "12                                   Years of Service    0.000000\n",
       "13                                Weekly Hours Worked    0.000000\n",
       "14  Survey, Relative, Attitude toward Work/Life Ba...    0.000000\n",
       "15  Survey, Relative, Peer's Average Attitude towa...    0.000000\n",
       "16  Survey, Relative, Peer's Average Attitude towa...    0.000000\n",
       "17  Survey, Relative, Peer's Average Attitude towa...    0.000000\n",
       "18  Survey, Relative, Peer's Average Attitude towa...    0.000000\n",
       "19  Survey, Relative, Peer's Average Attitude towa...    0.000000\n",
       "20                                     HR Touchpoints    0.000000"
      ]
     },
     "execution_count": 57,
     "metadata": {},
     "output_type": "execute_result"
    }
   ],
   "source": [
    "featureImportance = pd.DataFrame(columns=[\"Feature\", \"Importance\"])\n",
    "_featImp = estimator.feature_importances_\n",
    "for index in _featImp.argsort()[::-1]:\n",
    "    featureImportance = featureImportance.append(\n",
    "        {\"Feature\":independentVars[index],\"Importance\":_featImp[index]}, ignore_index = True)\n",
    "featureImportance"
   ]
  },
  {
   "cell_type": "code",
   "execution_count": null,
   "metadata": {},
   "outputs": [],
   "source": [
    "from xgboost import XGBClassifier\n",
    "model  = XGBClassifier()\n",
    "model.fit(X_train,y_train)\n",
    "\n",
    "test_predict = model.predict(X_test)\n",
    "from sklearn.metrics import accuracy_score\n",
    "accuracy_score(y_test, test_predict)"
   ]
  },
  {
   "cell_type": "code",
   "execution_count": 69,
   "metadata": {},
   "outputs": [
    {
     "name": "stdout",
     "output_type": "stream",
     "text": [
      "Fitting 5 folds for each of 72 candidates, totalling 360 fits\n"
     ]
    },
    {
     "name": "stderr",
     "output_type": "stream",
     "text": [
      "[Parallel(n_jobs=5)]: Using backend LokyBackend with 5 concurrent workers.\n",
      "[Parallel(n_jobs=5)]: Done  31 tasks      | elapsed:  1.9min\n",
      "[Parallel(n_jobs=5)]: Done 152 tasks      | elapsed:  9.2min\n",
      "[Parallel(n_jobs=5)]: Done 360 out of 360 | elapsed: 24.5min finished\n"
     ]
    },
    {
     "name": "stdout",
     "output_type": "stream",
     "text": [
      "[15:39:15] WARNING: C:\\Users\\Administrator\\workspace\\xgboost-win64_release_1.2.0\\src\\learner.cc:516: \n",
      "Parameters: { silent } might not be used.\n",
      "\n",
      "  This may not be accurate due to some parameters are only used in language bindings but\n",
      "  passed down to XGBoost core.  Or some parameters are not used but slip through this\n",
      "  verification. Please open an issue if you find above cases.\n",
      "\n",
      "\n"
     ]
    },
    {
     "data": {
      "text/plain": [
       "GridSearchCV(cv=StratifiedKFold(n_splits=5, random_state=None, shuffle=True),\n",
       "             estimator=XGBClassifier(base_score=None, booster=None,\n",
       "                                     colsample_bylevel=None,\n",
       "                                     colsample_bynode=None,\n",
       "                                     colsample_bytree=None, gamma=None,\n",
       "                                     gpu_id=None, importance_type='gain',\n",
       "                                     interaction_constraints=None,\n",
       "                                     learning_rate=None, max_delta_step=None,\n",
       "                                     max_depth=None, min_child_weight=None,\n",
       "                                     miss...\n",
       "                                     tree_method=None, validate_parameters=None,\n",
       "                                     verbosity=None),\n",
       "             n_jobs=5,\n",
       "             param_grid={'colsample_bytree': [0.6, 0.8],\n",
       "                         'learning_rate': [0.05], 'max_depth': [5, 6, 7],\n",
       "                         'min_child_weight': [10, 11], 'missing': [-999],\n",
       "                         'n_estimators': [600, 800, 1000], 'nthread': [4],\n",
       "                         'objective': ['binary:logistic'], 'seed': [1337],\n",
       "                         'silent': [1], 'subsample': [0.5, 0.7]},\n",
       "             scoring='accuracy', verbose=2)"
      ]
     },
     "execution_count": 69,
     "metadata": {},
     "output_type": "execute_result"
    }
   ],
   "source": [
    "#from sklearn.cross_validation import *\n",
    "from sklearn.model_selection import GridSearchCV, StratifiedKFold\n",
    "\n",
    "xgb_model  = XGBClassifier()\n",
    "parameters = {'nthread':[4], #when use hyperthread, xgboost may become slower\n",
    "              'objective':['binary:logistic'],\n",
    "              'learning_rate': [0.05], #so called `eta` value\n",
    "              'max_depth': [5,6,7],\n",
    "              'min_child_weight': [10,11],\n",
    "              'silent': [1],\n",
    "              'subsample': [.5,.7],\n",
    "              'colsample_bytree': [.6,.8],\n",
    "              'n_estimators': [600,800,1000], #number of trees, change it to 1000 for better results\n",
    "              'missing':[-999],\n",
    "              'seed': [1337]}\n",
    "\n",
    "clf = GridSearchCV(xgb_model, parameters, n_jobs=5, \n",
    "                   cv=StratifiedKFold(n_splits=5, shuffle=True), \n",
    "                   scoring='accuracy',\n",
    "                   verbose=2, refit=True)\n",
    "\n",
    "clf.fit(X_train,y_train)"
   ]
  },
  {
   "cell_type": "code",
   "execution_count": 72,
   "metadata": {},
   "outputs": [
    {
     "data": {
      "text/plain": [
       "{'colsample_bytree': 0.6,\n",
       " 'learning_rate': 0.05,\n",
       " 'max_depth': 5,\n",
       " 'min_child_weight': 10,\n",
       " 'missing': -999,\n",
       " 'n_estimators': 600,\n",
       " 'nthread': 4,\n",
       " 'objective': 'binary:logistic',\n",
       " 'seed': 1337,\n",
       " 'silent': 1,\n",
       " 'subsample': 0.7}"
      ]
     },
     "execution_count": 72,
     "metadata": {},
     "output_type": "execute_result"
    }
   ],
   "source": [
    "clf.best_params_"
   ]
  },
  {
   "cell_type": "code",
   "execution_count": 77,
   "metadata": {},
   "outputs": [
    {
     "data": {
      "text/plain": [
       "0.9078571428571428"
      ]
     },
     "execution_count": 77,
     "metadata": {},
     "output_type": "execute_result"
    }
   ],
   "source": [
    "from xgboost import XGBClassifier\n",
    "params = {'colsample_bytree': 0.6,\n",
    " 'learning_rate': 0.05,\n",
    " 'max_depth': 5,\n",
    " 'min_child_weight': 10,\n",
    " 'missing': -999,\n",
    " 'n_estimators': 600,\n",
    " 'nthread': 4,\n",
    " 'objective': 'binary:logistic',\n",
    " 'seed': 1337,\n",
    " 'subsample': 0.7}\n",
    "model  = XGBClassifier(**params)\n",
    "model.fit(X_train,y_train)\n",
    "\n",
    "test_predict = model.predict(X_test)\n",
    "from sklearn.metrics import accuracy_score\n",
    "accuracy_score(y_test, test_predict)"
   ]
  },
  {
   "cell_type": "markdown",
   "metadata": {},
   "source": [
    "# Save model to disk"
   ]
  },
  {
   "cell_type": "code",
   "execution_count": 3,
   "metadata": {},
   "outputs": [],
   "source": [
    "import pickle"
   ]
  },
  {
   "cell_type": "code",
   "execution_count": 79,
   "metadata": {},
   "outputs": [],
   "source": [
    "# save the model to disk\n",
    "filename = 'xyz_xgboost.pkl'\n",
    "pickle.dump(model, open(filename, 'wb'))"
   ]
  },
  {
   "cell_type": "code",
   "execution_count": 4,
   "metadata": {},
   "outputs": [],
   "source": [
    "# save the model to disk\n",
    "filename = 'xyz_xgboost.pkl'\n",
    "loaded_model = pickle.load(open(filename, 'rb'))"
   ]
  },
  {
   "cell_type": "code",
   "execution_count": 5,
   "metadata": {},
   "outputs": [
    {
     "data": {
      "text/plain": [
       "array([0.01902732, 0.05901571, 0.019581  , 0.02116114, 0.25948167,\n",
       "       0.02057951, 0.05303173, 0.02033402, 0.02430013, 0.13576783,\n",
       "       0.05666199, 0.01888779, 0.11130736, 0.03795147, 0.01986042,\n",
       "       0.02028597, 0.02021777, 0.02127633, 0.02100435, 0.0201946 ,\n",
       "       0.02007185], dtype=float32)"
      ]
     },
     "execution_count": 5,
     "metadata": {},
     "output_type": "execute_result"
    }
   ],
   "source": [
    "loaded_model.feature_importances_"
   ]
  },
  {
   "cell_type": "code",
   "execution_count": 11,
   "metadata": {},
   "outputs": [],
   "source": [
    "featureImportance = pd.DataFrame(columns=[\"Feature\", \"Importance\"])\n",
    "_featImp = loaded_model.feature_importances_\n",
    "for index in _featImp.argsort()[::-1]:\n",
    "    featureImportance = featureImportance.append(\n",
    "        {\"Feature\":independentVars[index],\"Importance\":_featImp[index]}, ignore_index = True)"
   ]
  },
  {
   "cell_type": "code",
   "execution_count": 20,
   "metadata": {},
   "outputs": [
    {
     "data": {
      "text/plain": [
       "<AxesSubplot:xlabel='Importance', ylabel='Feature'>"
      ]
     },
     "execution_count": 20,
     "metadata": {},
     "output_type": "execute_result"
    },
    {
     "data": {
      "image/png": "[encoded data removed]",
      "text/plain": [
       "<Figure size 1080x720 with 1 Axes>"
      ]
     },
     "metadata": {
      "needs_background": "light"
     },
     "output_type": "display_data"
    }
   ],
   "source": [
    "import seaborn as sns\n",
    "plt.figure(figsize=(15,10))\n",
    "sns.barplot(x = featureImportance[\"Importance\"], y = featureImportance[\"Feature\"])"
   ]
  },
  {
   "cell_type": "code",
   "execution_count": 42,
   "metadata": {},
   "outputs": [],
   "source": [
    "import json\n",
    "test = '{\"data\":[[1,0,1,4,0,1,0,2,1,2,4,4,5,1,3,6,0,3,1,4,4]]}'\n",
    "data = np.array(json.loads(test))"
   ]
  },
  {
   "cell_type": "code",
   "execution_count": 45,
   "metadata": {},
   "outputs": [
    {
     "data": {
      "text/html": [
       "<div>\n",
       "<style scoped>\n",
       "    .dataframe tbody tr th:only-of-type {\n",
       "        vertical-align: middle;\n",
       "    }\n",
       "\n",
       "    .dataframe tbody tr th {\n",
       "        vertical-align: top;\n",
       "    }\n",
       "\n",
       "    .dataframe thead th {\n",
       "        text-align: right;\n",
       "    }\n",
       "</style>\n",
       "<table border=\"1\" class=\"dataframe\">\n",
       "  <thead>\n",
       "    <tr style=\"text-align: right;\">\n",
       "      <th></th>\n",
       "      <th>HR Touchpoints</th>\n",
       "      <th>Hired through SMTP</th>\n",
       "      <th>LinkedIn Skill Code</th>\n",
       "      <th>Mentor Program Involvement (Scaled)</th>\n",
       "      <th>National Origin (code)</th>\n",
       "      <th>Recruiting Method Code</th>\n",
       "      <th>Salary Level, Relative to Peers (Grouped)</th>\n",
       "      <th>Social Media Activity (Twitter, Facebook, Instagram)</th>\n",
       "      <th>Survey, Relative, Attitude toward Environment</th>\n",
       "      <th>Survey, Relative, Attitude toward Peers</th>\n",
       "      <th>...</th>\n",
       "      <th>Survey, Relative, Attitude toward Work/Life Balance</th>\n",
       "      <th>Survey, Relative, Attitude toward WorkType</th>\n",
       "      <th>Survey, Relative, Attitude toward Workload</th>\n",
       "      <th>Survey, Relative, Peer's Average Attitude toward Peers</th>\n",
       "      <th>Survey, Relative, Peer's Average Attitude toward Resources</th>\n",
       "      <th>Survey, Relative, Peer's Average Attitude toward Work/Life Balance</th>\n",
       "      <th>Survey, Relative, Peer's Average Attitude toward WorkType</th>\n",
       "      <th>Survey, Relative, Peer's Average Attitude toward Workload</th>\n",
       "      <th>Weekly Hours Worked</th>\n",
       "      <th>Years of Service</th>\n",
       "    </tr>\n",
       "  </thead>\n",
       "  <tbody>\n",
       "    <tr>\n",
       "      <th>0</th>\n",
       "      <td>1</td>\n",
       "      <td>0</td>\n",
       "      <td>1</td>\n",
       "      <td>4</td>\n",
       "      <td>0</td>\n",
       "      <td>1</td>\n",
       "      <td>0</td>\n",
       "      <td>2</td>\n",
       "      <td>1</td>\n",
       "      <td>2</td>\n",
       "      <td>...</td>\n",
       "      <td>4</td>\n",
       "      <td>5</td>\n",
       "      <td>1</td>\n",
       "      <td>3</td>\n",
       "      <td>6</td>\n",
       "      <td>0</td>\n",
       "      <td>3</td>\n",
       "      <td>1</td>\n",
       "      <td>4</td>\n",
       "      <td>4</td>\n",
       "    </tr>\n",
       "  </tbody>\n",
       "</table>\n",
       "<p>1 rows × 21 columns</p>\n",
       "</div>"
      ],
      "text/plain": [
       "   HR Touchpoints  Hired through SMTP  LinkedIn Skill Code  \\\n",
       "0               1                   0                    1   \n",
       "\n",
       "   Mentor Program Involvement (Scaled)  National Origin (code)  \\\n",
       "0                                    4                       0   \n",
       "\n",
       "   Recruiting Method Code  Salary Level, Relative to Peers (Grouped)  \\\n",
       "0                       1                                          0   \n",
       "\n",
       "   Social Media Activity (Twitter, Facebook, Instagram)  \\\n",
       "0                                                  2      \n",
       "\n",
       "   Survey, Relative, Attitude toward Environment  \\\n",
       "0                                              1   \n",
       "\n",
       "   Survey, Relative, Attitude toward Peers  ...  \\\n",
       "0                                        2  ...   \n",
       "\n",
       "   Survey, Relative, Attitude toward Work/Life Balance  \\\n",
       "0                                                  4     \n",
       "\n",
       "   Survey, Relative, Attitude toward WorkType  \\\n",
       "0                                           5   \n",
       "\n",
       "   Survey, Relative, Attitude toward Workload  \\\n",
       "0                                           1   \n",
       "\n",
       "   Survey, Relative, Peer's Average Attitude toward Peers  \\\n",
       "0                                                  3        \n",
       "\n",
       "   Survey, Relative, Peer's Average Attitude toward Resources  \\\n",
       "0                                                  6            \n",
       "\n",
       "   Survey, Relative, Peer's Average Attitude toward Work/Life Balance  \\\n",
       "0                                                  0                    \n",
       "\n",
       "   Survey, Relative, Peer's Average Attitude toward WorkType  \\\n",
       "0                                                  3           \n",
       "\n",
       "   Survey, Relative, Peer's Average Attitude toward Workload  \\\n",
       "0                                                  1           \n",
       "\n",
       "   Weekly Hours Worked  Years of Service  \n",
       "0                    4                 4  \n",
       "\n",
       "[1 rows x 21 columns]"
      ]
     },
     "execution_count": 45,
     "metadata": {},
     "output_type": "execute_result"
    }
   ],
   "source": [
    "tmp = pd.DataFrame(json.loads(test)[\"data\"])\n",
    "tmp.columns = independentVars\n",
    "tmp"
   ]
  }
 ],
 "metadata": {
  "kernelspec": {
   "display_name": "Python 3",
   "language": "python",
   "name": "python3"
  },
  "language_info": {
   "codemirror_mode": {
    "name": "ipython",
    "version": 3
   },
   "file_extension": ".py",
   "mimetype": "text/x-python",
   "name": "python",
   "nbconvert_exporter": "python",
   "pygments_lexer": "ipython3",
   "version": "3.8.5"
  }
 },
 "nbformat": 4,
 "nbformat_minor": 4
}
